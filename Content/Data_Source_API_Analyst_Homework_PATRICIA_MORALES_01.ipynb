{
  "nbformat": 4,
  "nbformat_minor": 0,
  "metadata": {
    "colab": {
      "provenance": []
    },
    "kernelspec": {
      "name": "python3",
      "display_name": "Python 3"
    },
    "language_info": {
      "name": "python"
    }
  },
  "cells": [
    {
      "cell_type": "markdown",
      "source": [
        "# GitHub API Analyst Homework - Patricia M."
      ],
      "metadata": {
        "id": "ehM-amlrcFrG"
      }
    },
    {
      "cell_type": "code",
      "source": [
        "import requests\n",
        "import json\n",
        "import time\n",
        "import os\n",
        "import pandas as pd\n",
        "from getpass import getpass"
      ],
      "metadata": {
        "id": "6bIs6mkdQSM_"
      },
      "execution_count": null,
      "outputs": []
    },
    {
      "cell_type": "markdown",
      "source": [
        "# Solicita el token de GitHub de forma segura\n"
      ],
      "metadata": {
        "id": "9pHpRCJgFb4U"
      }
    },
    {
      "cell_type": "code",
      "source": [
        "github_token = getpass(\"🔐 Ingresa tu token personal de GitHub: \")\n",
        "os.environ[\"GITHUB_TOKEN\"] = github_token\n"
      ],
      "metadata": {
        "id": "WOWog1glRs3o",
        "colab": {
          "base_uri": "https://localhost:8080/"
        },
        "outputId": "2c502f5a-0b25-49b9-fb1a-706ce90d3377"
      },
      "execution_count": null,
      "outputs": [
        {
          "name": "stdout",
          "output_type": "stream",
          "text": [
            "🔐 Ingresa tu token personal de GitHub: ··········\n"
          ]
        }
      ]
    },
    {
      "cell_type": "markdown",
      "source": [
        "# Obtiene el token desde variable de entorno"
      ],
      "metadata": {
        "id": "dXK0esoCcUzt"
      }
    },
    {
      "cell_type": "code",
      "source": [
        "TOKEN = os.getenv(\"GITHUB_TOKEN\")"
      ],
      "metadata": {
        "id": "dWLw9jsnRs6l"
      },
      "execution_count": null,
      "outputs": []
    },
    {
      "cell_type": "markdown",
      "source": [
        "# Encabezados requeridos para la autenticación y uso correcto de la API"
      ],
      "metadata": {
        "id": "Vo5jFZndcbBt"
      }
    },
    {
      "cell_type": "code",
      "source": [
        "headers = {\n",
        "    \"Authorization\": f\"Bearer {TOKEN}\",\n",
        "    \"Accept\": \"application/vnd.github+json\",\n",
        "    \"X-GitHub-Api-Version\": \"2022-11-28\"\n",
        "}"
      ],
      "metadata": {
        "id": "LHp4QPaNQShX"
      },
      "execution_count": null,
      "outputs": []
    },
    {
      "cell_type": "code",
      "source": [
        "# Define tu token de autenticación\n",
        "GITHUB_TOKEN = \"tu_token_personal_aquí\"  # 👈🏽 Reemplaza con tu token de GitHub\n",
        "\n",
        "\n"
      ],
      "metadata": {
        "id": "OAMzVTqth9Fu"
      },
      "execution_count": null,
      "outputs": []
    },
    {
      "cell_type": "code",
      "source": [
        "# Configura los headers para autenticarte en la API de GitHub\n",
        "headers = {\n",
        "    \"Authorization\": f\"Bearer {GITHUB_TOKEN}\",\n",
        "    \"Accept\": \"application/vnd.github+json\",\n",
        "    \"X-GitHub-Api-Version\": \"2022-11-28\"\n",
        "}\n",
        "headers = {\n",
        "    \"Authorization\": f\"Bearer {GITHUB_TOKEN}\",\n",
        "    \"Accept\": \"application/vnd.github+json\",\n",
        "    \"X-GitHub-Api-Version\": \"2022-11-28\"\n",
        "}\n",
        "\n",
        "def get_repositories(query, per_page=10):\n",
        "    url = f\"https://api.github.com/search/repositories?q={query}&per_page={per_page}\"\n",
        "    response = requests.get(url, headers=headers)\n",
        "    response.raise_for_status()\n",
        "    return response.json()\n",
        "\n",
        "def get_commits(owner, repo):\n",
        "    url = f\"https://api.github.com/repos/{owner}/{repo}/commits\"\n",
        "    response = requests.get(url, headers=headers)\n",
        "    response.raise_for_status()\n",
        "    return response.json()\n"
      ],
      "metadata": {
        "id": "dbdI6P7jifk_"
      },
      "execution_count": null,
      "outputs": []
    },
    {
      "cell_type": "markdown",
      "source": [
        "# Función para realizar solicitudes HTTP y manejar errores comunes"
      ],
      "metadata": {
        "id": "SJwzgRzrchnt"
      }
    },
    {
      "cell_type": "code",
      "source": [
        "def hacer_peticion(url):\n",
        "    while True:\n",
        "        respuesta = requests.get(url, headers=headers)\n",
        "        if respuesta.status_code == 200:\n",
        "            return respuesta.json()\n",
        "        elif respuesta.status_code == 403 and 'X-RateLimit-Remaining' in respuesta.headers:\n",
        "            tiempo_reinicio = int(respuesta.headers.get(\"X-RateLimit-Reset\", time.time() + 60))\n",
        "            esperar = max(tiempo_reinicio - int(time.time()), 1)\n",
        "            print(f\"Límite alcanzado. Esperando {esperar} segundos...\")\n",
        "            time.sleep(esperar)\n",
        "        elif respuesta.status_code == 401:\n",
        "            print(\"Error 401: Token inválido o sin permisos.\")\n",
        "            return []\n",
        "        else:\n",
        "            print(f\"Error {respuesta.status_code}: {respuesta.text}\")\n",
        "            return []\n"
      ],
      "metadata": {
        "id": "FAHdNbktQSka"
      },
      "execution_count": null,
      "outputs": []
    },
    {
      "cell_type": "code",
      "source": [
        "# Función para recorrer múltiples páginas de resultados\n",
        "\n",
        "def obtener_paginas(url_base, por_pagina=30, paginas_max=3):\n",
        "    resultados = []\n",
        "    for pagina in range(1, paginas_max + 1):\n",
        "        url = f\"{url_base}&per_page={por_pagina}&page={pagina}\"\n",
        "        datos = hacer_peticion(url)\n",
        "        if not datos:\n",
        "            break\n",
        "        if isinstance(datos, list):\n",
        "            resultados.extend(datos)\n",
        "        else:\n",
        "            resultados.extend(datos.get(\"items\", []))\n",
        "    return resultados"
      ],
      "metadata": {
        "id": "C3dF3t_GQ94W"
      },
      "execution_count": null,
      "outputs": []
    },
    {
      "cell_type": "code",
      "source": [
        "# Buscar repositorios con la palabra clave \"data science\"\n",
        "print(\"\\n--- Repositorios sobre 'data science' ---\")\n",
        "busqueda_url = \"https://api.github.com/search/repositories?q=data+science&sort=stars\"\n",
        "repositorios = obtener_paginas(busqueda_url, por_pagina=5, paginas_max=2)\n",
        "for repo in repositorios:\n",
        "    print(f\"- {repo['full_name']} (⭐ {repo['stargazers_count']})\")\n",
        "\n",
        "# Obtener commits de un repositorio público\n",
        "print(\"\\n--- Commits de pandas-dev/pandas ---\")\n",
        "url_commits = \"https://api.github.com/repos/pandas-dev/pandas/commits?\"\n",
        "commits = obtener_paginas(url_commits, por_pagina=5, paginas_max=2)\n",
        "for commit in commits[:5]:\n",
        "    mensaje = commit['commit']['message']\n",
        "    sha = commit['sha'][:7]\n",
        "    print(f\"- {mensaje} ({sha})\")\n",
        "\n",
        "# Consultar el contenido del repositorio en su raíz\n",
        "print(\"\\n--- Archivos en la raíz de pandas-dev/pandas ---\")\n",
        "url_contenido = \"https://api.github.com/repos/pandas-dev/pandas/contents/\"\n",
        "contenido = hacer_peticion(url_contenido)\n",
        "for item in contenido[:5]:\n",
        "    print(f\"- {item['name']} ({item['type']})\")\n",
        "\n",
        "# Simulación de error con token incorrecto\n",
        "print(\"\\n--- Prueba de error con token inválido ---\")\n",
        "def prueba_error():\n",
        "    headers_erroneos = headers.copy()\n",
        "    headers_erroneos[\"Authorization\"] = \"Bearer token_invalido\"\n",
        "    url_error = \"https://api.github.com/user\"\n",
        "    respuesta = requests.get(url_error, headers=headers_erroneos)\n",
        "    if respuesta.status_code == 401:\n",
        "        print(\"Error 401: No autorizado (token inválido)\")\n",
        "    elif respuesta.status_code == 403:\n",
        "        print(\"Error 403: Límite de peticiones alcanzado\")\n",
        "    else:\n",
        "        print(f\"Código inesperado: {respuesta.status_code}\")\n",
        "\n",
        "prueba_error()"
      ],
      "metadata": {
        "id": "2Gv0fx3lQ98A",
        "colab": {
          "base_uri": "https://localhost:8080/"
        },
        "outputId": "52f0a6ab-31d2-491f-ef47-f76f9ea4e923"
      },
      "execution_count": null,
      "outputs": [
        {
          "output_type": "stream",
          "name": "stdout",
          "text": [
            "\n",
            "--- Repositorios sobre 'data science' ---\n",
            "Límite alcanzado. Esperando 7 segundos...\n",
            "Límite alcanzado. Esperando 1 segundos...\n",
            "- jakevdp/PythonDataScienceHandbook (⭐ 44939)\n",
            "- microsoft/Data-Science-For-Beginners (⭐ 29922)\n",
            "- donnemartin/data-science-ipython-notebooks (⭐ 28338)\n",
            "- eugeneyan/applied-ml (⭐ 28095)\n",
            "- academic/awesome-datascience (⭐ 26843)\n",
            "- datasciencemasters/go (⭐ 25518)\n",
            "- ossu/data-science (⭐ 19981)\n",
            "- FavioVazquez/ds-cheatsheets (⭐ 15518)\n",
            "- virgili0/Virgilio (⭐ 14125)\n",
            "- tangyudi/Ai-Learn (⭐ 11420)\n",
            "\n",
            "--- Commits de pandas-dev/pandas ---\n",
            "- BUG: Fix Index.equals between object and string (#61541) (b876c67)\n",
            "- TST[string]: update expecteds for using_string_dtype to fix xfails (#61727)\n",
            "\n",
            "* TST: update expecteds for using_string_dtype to fix xfails\n",
            "\n",
            "* Update to_dict_of_blocks test to hardcode object dtype\n",
            "\n",
            "* Comment\n",
            "\n",
            "* Split test, update expected, targeted xfails\n",
            "\n",
            "* Update json test\n",
            "\n",
            "* revert commented-out (e635c3e)\n",
            "- CI: Remove PyPy references in CI testing (#61814) (f94b430)\n",
            "- feature #49580: support new-style float_format string in to_csv (#61650)\n",
            "\n",
            "* feature #49580: support new-style float_format string in to_csv\n",
            "\n",
            "feat(to_csv): support new-style float_format strings using str.format\n",
            "\n",
            "Detect and process new-style format strings (e.g., \"{:,.2f}\") in the\n",
            "float_format parameter of to_csv.\n",
            "\n",
            "- Check if float_format is a string and matches new-style pattern\n",
            "- Convert it to a callable (e.g., lambda x: float_format.format(x))\n",
            "- Ensure compatibility with NaN values and mixed data types\n",
            "- Improves formatting output for floats when exporting to CSV\n",
            "\n",
            "Example:\n",
            "df = pd.DataFrame([1234.56789, 9876.54321])\n",
            "df.to_csv(float_format=\"{:,.2f}\")  # now outputs formatted values like\n",
            "1,234.57\n",
            "\n",
            "Co-authored-by: Pedro Santos <pedro.filipe.santos@tecnico.ulisboa.pt>\n",
            "\n",
            "* update benchmark test\n",
            "\n",
            "* fixed pre commit\n",
            "\n",
            "* fixed offsets.pyx\n",
            "\n",
            "* fixed tests to windows\n",
            "\n",
            "* Update pandas/io/formats/format.py\n",
            "\n",
            "Co-authored-by: Matthew Roeschke <10647082+mroeschke@users.noreply.github.com>\n",
            "\n",
            "* Update pandas/io/formats/format.py\n",
            "\n",
            "Co-authored-by: Matthew Roeschke <10647082+mroeschke@users.noreply.github.com>\n",
            "\n",
            "* Update pandas/io/formats/format.py\n",
            "\n",
            "Co-authored-by: Matthew Roeschke <10647082+mroeschke@users.noreply.github.com>\n",
            "\n",
            "* updated v3.0.0.rst and fixed tm.assert_produces_warning\n",
            "\n",
            "* fixed test_new_style_with_mixed_types_in_column added match to assert_produces_warning\n",
            "\n",
            "* Update doc/source/whatsnew/v3.0.0.rst (removed reference to this PR)\n",
            "\n",
            "Co-authored-by: Simon Hawkins <simonjayhawkins@gmail.com>\n",
            "\n",
            "* fixed pre-commit\n",
            "\n",
            "* removed tm.assert_produces_warning\n",
            "\n",
            "* fixed space\n",
            "\n",
            "* fixed pre-commit\n",
            "\n",
            "---------\n",
            "\n",
            "Co-authored-by: Pedro Santos <pedro.filipe.santos@tecnico.ulisboa.pt>\n",
            "Co-authored-by: Matthew Roeschke <10647082+mroeschke@users.noreply.github.com>\n",
            "Co-authored-by: Simon Hawkins <simonjayhawkins@gmail.com> (d5f97ed)\n",
            "- DEPS: Bump NumPy and tzdata (#61806)\n",
            "\n",
            "* Bump numpy\n",
            "\n",
            "* Bump numpy\n",
            "\n",
            "* Bump tzdata\n",
            "\n",
            "* ignore pytables usage, update xfail condition (d1a245c)\n",
            "\n",
            "--- Archivos en la raíz de pandas-dev/pandas ---\n",
            "- .devcontainer.json (file)\n",
            "- .gitattributes (file)\n",
            "- .github (dir)\n",
            "- .gitignore (file)\n",
            "- .gitpod.yml (file)\n",
            "\n",
            "--- Prueba de error con token inválido ---\n",
            "Error 401: No autorizado (token inválido)\n"
          ]
        }
      ]
    },
    {
      "cell_type": "code",
      "source": [
        "# Función para exportar los datos de los repositorios a CSV\n",
        "def exportar_repositorios_csv(repositorios, archivo_salida=\"repositorios.csv\"):\n",
        "    datos = []\n",
        "    for repo in repositorios:\n",
        "        datos.append({\n",
        "            \"repo_name\": repo.get(\"name\"),\n",
        "            \"repo_full_name\": repo.get(\"full_name\"),\n",
        "            \"owner\": repo.get(\"owner\", {}).get(\"login\"),\n",
        "            \"stars\": repo.get(\"stargazers_count\"),\n",
        "            \"forks\": repo.get(\"forks_count\"),\n",
        "            \"created_at\": repo.get(\"created_at\"),\n",
        "            \"updated_at\": repo.get(\"updated_at\"),\n",
        "            \"url\": repo.get(\"html_url\"),\n",
        "            \"description\": repo.get(\"description\")\n",
        "        })\n",
        "    df = pd.DataFrame(datos)\n",
        "    df.to_csv(archivo_salida, index=False)\n",
        "    print(f\"✅ Repositorios exportados en: {archivo_salida}\")"
      ],
      "metadata": {
        "id": "gOnIrK97CwsF"
      },
      "execution_count": null,
      "outputs": []
    },
    {
      "cell_type": "code",
      "source": [
        "# Función para exportar los datos de los commits a CSV\n",
        "def exportar_commits_csv(commits, archivo_salida=\"commits.csv\"):\n",
        "    datos = []\n",
        "    for c in commits:\n",
        "        datos.append({\n",
        "            \"commit_sha\": c.get(\"sha\", \"\")[:7],\n",
        "            \"commit_message\": c.get(\"commit\", {}).get(\"message\"),\n",
        "            \"commit_author\": c.get(\"commit\", {}).get(\"author\", {}).get(\"name\")\n",
        "        })\n",
        "    df = pd.DataFrame(datos)\n",
        "    df.to_csv(archivo_salida, index=False)\n",
        "    print(f\"✅ Commits exportados en: {archivo_salida}\")"
      ],
      "metadata": {
        "id": "hEBqMOy1DZBt"
      },
      "execution_count": null,
      "outputs": []
    },
    {
      "cell_type": "code",
      "source": [
        "# Exportar como extra de la tarea\n",
        "exportar_repositorios_csv(repositorios)\n",
        "exportar_commits_csv(commits)\n"
      ],
      "metadata": {
        "id": "LI7QjuKwDZib",
        "colab": {
          "base_uri": "https://localhost:8080/"
        },
        "outputId": "b554833d-8b88-46e5-99d1-200164cd9ddc"
      },
      "execution_count": null,
      "outputs": [
        {
          "output_type": "stream",
          "name": "stdout",
          "text": [
            "✅ Repositorios exportados en: repositorios.csv\n",
            "✅ Commits exportados en: commits.csv\n"
          ]
        }
      ]
    },
    {
      "cell_type": "code",
      "source": [],
      "metadata": {
        "id": "7wCcWnCZDZk4"
      },
      "execution_count": null,
      "outputs": []
    },
    {
      "cell_type": "code",
      "source": [],
      "metadata": {
        "id": "TDnPHxNoA5es"
      },
      "execution_count": null,
      "outputs": []
    },
    {
      "cell_type": "code",
      "source": [],
      "metadata": {
        "id": "hgCMLH6mA5hB"
      },
      "execution_count": null,
      "outputs": []
    },
    {
      "cell_type": "code",
      "source": [],
      "metadata": {
        "id": "soxFYYHjA5iy"
      },
      "execution_count": null,
      "outputs": []
    },
    {
      "cell_type": "code",
      "source": [],
      "metadata": {
        "id": "FswRqk0iA5lg"
      },
      "execution_count": null,
      "outputs": []
    }
  ]
}